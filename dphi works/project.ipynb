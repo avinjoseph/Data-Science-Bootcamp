{
 "cells": [
  {
   "cell_type": "code",
   "execution_count": 289,
   "metadata": {},
   "outputs": [],
   "source": [
    "import pandas as pd\n",
    "import numpy as np\n",
    "import matplotlib.pyplot as plt\n",
    "pharma_data = pd.read_csv('https://raw.githubusercontent.com/dphi-official/Datasets/master/pharma_data/Training_set_begs.csv')"
   ]
  },
  {
   "cell_type": "code",
   "execution_count": 290,
   "metadata": {},
   "outputs": [
    {
     "data": {
      "text/plain": [
       "(23097, 18)"
      ]
     },
     "execution_count": 290,
     "metadata": {},
     "output_type": "execute_result"
    }
   ],
   "source": [
    "pharma_data.shape"
   ]
  },
  {
   "cell_type": "code",
   "execution_count": 291,
   "metadata": {
    "scrolled": true
   },
   "outputs": [
    {
     "data": {
      "text/plain": [
       "ID_Patient_Care_Situation       0\n",
       "Diagnosed_Condition             0\n",
       "Patient_ID                      0\n",
       "Treated_with_drugs             13\n",
       "Patient_Age                     0\n",
       "Patient_Body_Mass_Index         0\n",
       "Patient_Smoker                  0\n",
       "Patient_Rural_Urban             0\n",
       "Patient_mental_condition        0\n",
       "A                            1235\n",
       "B                            1235\n",
       "C                            1235\n",
       "D                            1235\n",
       "E                            1235\n",
       "F                            1235\n",
       "Z                            1235\n",
       "Number_of_prev_cond          1235\n",
       "Survived_1_year                 0\n",
       "dtype: int64"
      ]
     },
     "execution_count": 291,
     "metadata": {},
     "output_type": "execute_result"
    }
   ],
   "source": [
    "pharma_data.isnull().sum()"
   ]
  },
  {
   "cell_type": "code",
   "execution_count": 292,
   "metadata": {},
   "outputs": [
    {
     "data": {
      "text/html": [
       "<div>\n",
       "<style scoped>\n",
       "    .dataframe tbody tr th:only-of-type {\n",
       "        vertical-align: middle;\n",
       "    }\n",
       "\n",
       "    .dataframe tbody tr th {\n",
       "        vertical-align: top;\n",
       "    }\n",
       "\n",
       "    .dataframe thead th {\n",
       "        text-align: right;\n",
       "    }\n",
       "</style>\n",
       "<table border=\"1\" class=\"dataframe\">\n",
       "  <thead>\n",
       "    <tr style=\"text-align: right;\">\n",
       "      <th></th>\n",
       "      <th>ID_Patient_Care_Situation</th>\n",
       "      <th>Diagnosed_Condition</th>\n",
       "      <th>Patient_ID</th>\n",
       "      <th>Patient_Age</th>\n",
       "      <th>Patient_Body_Mass_Index</th>\n",
       "      <th>A</th>\n",
       "      <th>B</th>\n",
       "      <th>C</th>\n",
       "      <th>D</th>\n",
       "      <th>E</th>\n",
       "      <th>F</th>\n",
       "      <th>Z</th>\n",
       "      <th>Number_of_prev_cond</th>\n",
       "    </tr>\n",
       "    <tr>\n",
       "      <th>Survived_1_year</th>\n",
       "      <th></th>\n",
       "      <th></th>\n",
       "      <th></th>\n",
       "      <th></th>\n",
       "      <th></th>\n",
       "      <th></th>\n",
       "      <th></th>\n",
       "      <th></th>\n",
       "      <th></th>\n",
       "      <th></th>\n",
       "      <th></th>\n",
       "      <th></th>\n",
       "      <th></th>\n",
       "    </tr>\n",
       "  </thead>\n",
       "  <tbody>\n",
       "    <tr>\n",
       "      <th>0</th>\n",
       "      <td>16604.262303</td>\n",
       "      <td>26.500824</td>\n",
       "      <td>6281.149635</td>\n",
       "      <td>35.130563</td>\n",
       "      <td>24.063122</td>\n",
       "      <td>0.917388</td>\n",
       "      <td>0.158401</td>\n",
       "      <td>0.201779</td>\n",
       "      <td>0.12136</td>\n",
       "      <td>0.379676</td>\n",
       "      <td>0.052516</td>\n",
       "      <td>0.000000</td>\n",
       "      <td>1.831120</td>\n",
       "    </tr>\n",
       "    <tr>\n",
       "      <th>1</th>\n",
       "      <td>16511.655619</td>\n",
       "      <td>26.362117</td>\n",
       "      <td>6249.723824</td>\n",
       "      <td>32.092515</td>\n",
       "      <td>23.100994</td>\n",
       "      <td>0.886196</td>\n",
       "      <td>0.123105</td>\n",
       "      <td>0.175027</td>\n",
       "      <td>0.06093</td>\n",
       "      <td>0.401391</td>\n",
       "      <td>0.054412</td>\n",
       "      <td>0.000952</td>\n",
       "      <td>1.702014</td>\n",
       "    </tr>\n",
       "  </tbody>\n",
       "</table>\n",
       "</div>"
      ],
      "text/plain": [
       "                 ID_Patient_Care_Situation  Diagnosed_Condition   Patient_ID  \\\n",
       "Survived_1_year                                                                \n",
       "0                             16604.262303            26.500824  6281.149635   \n",
       "1                             16511.655619            26.362117  6249.723824   \n",
       "\n",
       "                 Patient_Age  Patient_Body_Mass_Index         A         B  \\\n",
       "Survived_1_year                                                             \n",
       "0                  35.130563                24.063122  0.917388  0.158401   \n",
       "1                  32.092515                23.100994  0.886196  0.123105   \n",
       "\n",
       "                        C        D         E         F         Z  \\\n",
       "Survived_1_year                                                    \n",
       "0                0.201779  0.12136  0.379676  0.052516  0.000000   \n",
       "1                0.175027  0.06093  0.401391  0.054412  0.000952   \n",
       "\n",
       "                 Number_of_prev_cond  \n",
       "Survived_1_year                       \n",
       "0                           1.831120  \n",
       "1                           1.702014  "
      ]
     },
     "execution_count": 292,
     "metadata": {},
     "output_type": "execute_result"
    }
   ],
   "source": [
    "pharma_data.groupby(['Survived_1_year']).mean()"
   ]
  },
  {
   "cell_type": "code",
   "execution_count": 293,
   "metadata": {},
   "outputs": [
    {
     "data": {
      "text/plain": [
       "<matplotlib.axes._subplots.AxesSubplot at 0x2441bf2bb48>"
      ]
     },
     "execution_count": 293,
     "metadata": {},
     "output_type": "execute_result"
    },
    {
     "data": {
      "image/png": "[encoded data removed]",
      "text/plain": [
       "<Figure size 432x288 with 1 Axes>"
      ]
     },
     "metadata": {
      "needs_background": "light"
     },
     "output_type": "display_data"
    }
   ],
   "source": [
    "pd.crosstab(pharma_data.Treated_with_drugs,pharma_data.Survived_1_year).plot(kind='bar')"
   ]
  },
  {
   "cell_type": "code",
   "execution_count": 294,
   "metadata": {},
   "outputs": [
    {
     "data": {
      "text/plain": [
       "<matplotlib.axes._subplots.AxesSubplot at 0x2441c10f288>"
      ]
     },
     "execution_count": 294,
     "metadata": {},
     "output_type": "execute_result"
    },
    {
     "data": {
      "image/png": "[encoded data removed]",
      "text/plain": [
       "<Figure size 432x288 with 1 Axes>"
      ]
     },
     "metadata": {
      "needs_background": "light"
     },
     "output_type": "display_data"
    }
   ],
   "source": [
    "pd.crosstab(pharma_data.Patient_Smoker,pharma_data.Survived_1_year).plot(kind='bar')"
   ]
  },
  {
   "cell_type": "code",
   "execution_count": 295,
   "metadata": {},
   "outputs": [
    {
     "data": {
      "text/plain": [
       "NO            13246\n",
       "YES            9838\n",
       "Cannot say       13\n",
       "Name: Patient_Smoker, dtype: int64"
      ]
     },
     "execution_count": 295,
     "metadata": {},
     "output_type": "execute_result"
    }
   ],
   "source": [
    "pharma_data['Patient_Smoker'].value_counts()"
   ]
  },
  {
   "cell_type": "code",
   "execution_count": 296,
   "metadata": {
    "scrolled": true
   },
   "outputs": [
    {
     "data": {
      "text/plain": [
       "<matplotlib.axes._subplots.AxesSubplot at 0x2441c179448>"
      ]
     },
     "execution_count": 296,
     "metadata": {},
     "output_type": "execute_result"
    },
    {
     "data": {
      "image/png": "[encoded data removed]",
      "text/plain": [
       "<Figure size 432x288 with 1 Axes>"
      ]
     },
     "metadata": {
      "needs_background": "light"
     },
     "output_type": "display_data"
    }
   ],
   "source": [
    "pd.crosstab(pharma_data.Patient_Rural_Urban,pharma_data.Survived_1_year).plot(kind='bar')"
   ]
  },
  {
   "cell_type": "code",
   "execution_count": 297,
   "metadata": {},
   "outputs": [],
   "source": [
    "from sklearn.preprocessing import LabelEncoder\n",
    "le = LabelEncoder()\n",
    "pharma_data.Patient_Rural_Urban = le.fit_transform(pharma_data.Patient_Rural_Urban)"
   ]
  },
  {
   "cell_type": "code",
   "execution_count": 298,
   "metadata": {},
   "outputs": [],
   "source": [
    "pharma_data['Treated_with_drugs'].fillna(pharma_data['Treated_with_drugs'].mode().iloc[0],inplace= True)\n",
    "pharma_data['A'].fillna(pharma_data['A'].mode().iloc[0],inplace= True)\n",
    "pharma_data['B'].fillna(pharma_data['B'].mode().iloc[0],inplace= True)\n",
    "pharma_data['C'].fillna(pharma_data['C'].mode().iloc[0],inplace= True)\n",
    "pharma_data['D'].fillna(pharma_data['D'].mode().iloc[0],inplace= True)\n",
    "pharma_data['E'].fillna(pharma_data['E'].mode().iloc[0],inplace= True)\n",
    "pharma_data['F'].fillna(pharma_data['F'].mode().iloc[0],inplace= True)\n",
    "pharma_data['Z'].fillna(pharma_data['Z'].mode().iloc[0],inplace= True)"
   ]
  },
  {
   "cell_type": "code",
   "execution_count": 299,
   "metadata": {},
   "outputs": [],
   "source": [
    "\n",
    "pharma_data = pharma_data.drop(['Patient_mental_condition'],axis=1)"
   ]
  },
  {
   "cell_type": "code",
   "execution_count": 300,
   "metadata": {},
   "outputs": [],
   "source": [
    "pharma_data['Number_of_prev_cond'] = pharma_data['A']+pharma_data['B']+pharma_data['C']+pharma_data['D']+pharma_data['E']+pharma_data['F']+pharma_data['Z']"
   ]
  },
  {
   "cell_type": "code",
   "execution_count": 301,
   "metadata": {},
   "outputs": [],
   "source": [
    "dummies = pd.get_dummies(pharma_data['Treated_with_drugs'])\n",
    "pharma_data = pd.concat([pharma_data,dummies],axis = 1)"
   ]
  },
  {
   "cell_type": "code",
   "execution_count": 302,
   "metadata": {},
   "outputs": [],
   "source": [
    "pharma_data = pharma_data.drop('Treated_with_drugs',axis = 1)"
   ]
  },
  {
   "cell_type": "code",
   "execution_count": 303,
   "metadata": {},
   "outputs": [],
   "source": [
    "pharma_data = pharma_data[pharma_data['Diagnosed_Condition'] != 0]"
   ]
  },
  {
   "cell_type": "code",
   "execution_count": 304,
   "metadata": {},
   "outputs": [],
   "source": [
    "pharma_data.Patient_Smoker = le.fit_transform(pharma_data.Patient_Smoker)"
   ]
  },
  {
   "cell_type": "code",
   "execution_count": 305,
   "metadata": {},
   "outputs": [
    {
     "data": {
      "text/html": [
       "<div>\n",
       "<style scoped>\n",
       "    .dataframe tbody tr th:only-of-type {\n",
       "        vertical-align: middle;\n",
       "    }\n",
       "\n",
       "    .dataframe tbody tr th {\n",
       "        vertical-align: top;\n",
       "    }\n",
       "\n",
       "    .dataframe thead th {\n",
       "        text-align: right;\n",
       "    }\n",
       "</style>\n",
       "<table border=\"1\" class=\"dataframe\">\n",
       "  <thead>\n",
       "    <tr style=\"text-align: right;\">\n",
       "      <th></th>\n",
       "      <th>ID_Patient_Care_Situation</th>\n",
       "      <th>Diagnosed_Condition</th>\n",
       "      <th>Patient_ID</th>\n",
       "      <th>Patient_Age</th>\n",
       "      <th>Patient_Body_Mass_Index</th>\n",
       "      <th>Patient_Smoker</th>\n",
       "      <th>Patient_Rural_Urban</th>\n",
       "      <th>A</th>\n",
       "      <th>B</th>\n",
       "      <th>C</th>\n",
       "      <th>...</th>\n",
       "      <th>DX2 DX4 DX5</th>\n",
       "      <th>DX2 DX5</th>\n",
       "      <th>DX3</th>\n",
       "      <th>DX3 DX4</th>\n",
       "      <th>DX3 DX4 DX5</th>\n",
       "      <th>DX3 DX5</th>\n",
       "      <th>DX4</th>\n",
       "      <th>DX4 DX5</th>\n",
       "      <th>DX5</th>\n",
       "      <th>DX6</th>\n",
       "    </tr>\n",
       "  </thead>\n",
       "  <tbody>\n",
       "    <tr>\n",
       "      <th>0</th>\n",
       "      <td>22374</td>\n",
       "      <td>8</td>\n",
       "      <td>3333</td>\n",
       "      <td>56</td>\n",
       "      <td>18.479385</td>\n",
       "      <td>1</td>\n",
       "      <td>1</td>\n",
       "      <td>1.0</td>\n",
       "      <td>0.0</td>\n",
       "      <td>0.0</td>\n",
       "      <td>...</td>\n",
       "      <td>0</td>\n",
       "      <td>0</td>\n",
       "      <td>0</td>\n",
       "      <td>0</td>\n",
       "      <td>0</td>\n",
       "      <td>0</td>\n",
       "      <td>0</td>\n",
       "      <td>0</td>\n",
       "      <td>0</td>\n",
       "      <td>1</td>\n",
       "    </tr>\n",
       "    <tr>\n",
       "      <th>1</th>\n",
       "      <td>18164</td>\n",
       "      <td>5</td>\n",
       "      <td>5740</td>\n",
       "      <td>36</td>\n",
       "      <td>22.945566</td>\n",
       "      <td>1</td>\n",
       "      <td>0</td>\n",
       "      <td>1.0</td>\n",
       "      <td>0.0</td>\n",
       "      <td>0.0</td>\n",
       "      <td>...</td>\n",
       "      <td>0</td>\n",
       "      <td>0</td>\n",
       "      <td>0</td>\n",
       "      <td>0</td>\n",
       "      <td>0</td>\n",
       "      <td>0</td>\n",
       "      <td>0</td>\n",
       "      <td>0</td>\n",
       "      <td>0</td>\n",
       "      <td>0</td>\n",
       "    </tr>\n",
       "    <tr>\n",
       "      <th>2</th>\n",
       "      <td>6283</td>\n",
       "      <td>23</td>\n",
       "      <td>10446</td>\n",
       "      <td>48</td>\n",
       "      <td>27.510027</td>\n",
       "      <td>1</td>\n",
       "      <td>0</td>\n",
       "      <td>1.0</td>\n",
       "      <td>0.0</td>\n",
       "      <td>0.0</td>\n",
       "      <td>...</td>\n",
       "      <td>0</td>\n",
       "      <td>0</td>\n",
       "      <td>0</td>\n",
       "      <td>0</td>\n",
       "      <td>0</td>\n",
       "      <td>0</td>\n",
       "      <td>0</td>\n",
       "      <td>0</td>\n",
       "      <td>0</td>\n",
       "      <td>1</td>\n",
       "    </tr>\n",
       "    <tr>\n",
       "      <th>3</th>\n",
       "      <td>5339</td>\n",
       "      <td>51</td>\n",
       "      <td>12011</td>\n",
       "      <td>5</td>\n",
       "      <td>19.130976</td>\n",
       "      <td>0</td>\n",
       "      <td>1</td>\n",
       "      <td>1.0</td>\n",
       "      <td>0.0</td>\n",
       "      <td>0.0</td>\n",
       "      <td>...</td>\n",
       "      <td>0</td>\n",
       "      <td>0</td>\n",
       "      <td>0</td>\n",
       "      <td>0</td>\n",
       "      <td>0</td>\n",
       "      <td>0</td>\n",
       "      <td>0</td>\n",
       "      <td>0</td>\n",
       "      <td>0</td>\n",
       "      <td>0</td>\n",
       "    </tr>\n",
       "    <tr>\n",
       "      <th>5</th>\n",
       "      <td>10808</td>\n",
       "      <td>45</td>\n",
       "      <td>7977</td>\n",
       "      <td>47</td>\n",
       "      <td>26.155120</td>\n",
       "      <td>1</td>\n",
       "      <td>1</td>\n",
       "      <td>1.0</td>\n",
       "      <td>0.0</td>\n",
       "      <td>0.0</td>\n",
       "      <td>...</td>\n",
       "      <td>0</td>\n",
       "      <td>0</td>\n",
       "      <td>0</td>\n",
       "      <td>0</td>\n",
       "      <td>0</td>\n",
       "      <td>0</td>\n",
       "      <td>0</td>\n",
       "      <td>0</td>\n",
       "      <td>0</td>\n",
       "      <td>1</td>\n",
       "    </tr>\n",
       "  </tbody>\n",
       "</table>\n",
       "<p>5 rows × 48 columns</p>\n",
       "</div>"
      ],
      "text/plain": [
       "   ID_Patient_Care_Situation  Diagnosed_Condition  Patient_ID  Patient_Age  \\\n",
       "0                      22374                    8        3333           56   \n",
       "1                      18164                    5        5740           36   \n",
       "2                       6283                   23       10446           48   \n",
       "3                       5339                   51       12011            5   \n",
       "5                      10808                   45        7977           47   \n",
       "\n",
       "   Patient_Body_Mass_Index  Patient_Smoker  Patient_Rural_Urban    A    B  \\\n",
       "0                18.479385               1                    1  1.0  0.0   \n",
       "1                22.945566               1                    0  1.0  0.0   \n",
       "2                27.510027               1                    0  1.0  0.0   \n",
       "3                19.130976               0                    1  1.0  0.0   \n",
       "5                26.155120               1                    1  1.0  0.0   \n",
       "\n",
       "     C  ...  DX2 DX4 DX5   DX2 DX5   DX3   DX3 DX4   DX3 DX4 DX5   DX3 DX5   \\\n",
       "0  0.0  ...             0         0     0         0             0         0   \n",
       "1  0.0  ...             0         0     0         0             0         0   \n",
       "2  0.0  ...             0         0     0         0             0         0   \n",
       "3  0.0  ...             0         0     0         0             0         0   \n",
       "5  0.0  ...             0         0     0         0             0         0   \n",
       "\n",
       "   DX4   DX4 DX5   DX5   DX6  \n",
       "0     0         0     0    1  \n",
       "1     0         0     0    0  \n",
       "2     0         0     0    1  \n",
       "3     0         0     0    0  \n",
       "5     0         0     0    1  \n",
       "\n",
       "[5 rows x 48 columns]"
      ]
     },
     "execution_count": 305,
     "metadata": {},
     "output_type": "execute_result"
    }
   ],
   "source": [
    "pharma_data.head()"
   ]
  },
  {
   "cell_type": "code",
   "execution_count": 306,
   "metadata": {},
   "outputs": [],
   "source": [
    "from sklearn.model_selection import train_test_split\n",
    "X = pharma_data.drop('Survived_1_year',axis = 1)\n",
    "y = pharma_data['Survived_1_year']\n",
    "X_train,X_test,y_train,y_test = train_test_split(X,y,test_size = 0.2,random_state = 5)"
   ]
  },
  {
   "cell_type": "code",
   "execution_count": 307,
   "metadata": {},
   "outputs": [],
   "source": [
    "from sklearn.preprocessing import MinMaxScaler\n",
    "\n",
    "scaler = MinMaxScaler(feature_range = (0,1))\n",
    "\n",
    "scaler.fit(X_train)\n",
    "X_train = scaler.transform(X_train)\n",
    "X_test = scaler.transform(X_test)\n",
    "\n"
   ]
  },
  {
   "cell_type": "code",
   "execution_count": 308,
   "metadata": {},
   "outputs": [],
   "source": [
    "from sklearn.ensemble import RandomForestClassifier\n",
    "clf_1 = RandomForestClassifier(min_samples_leaf=2, random_state=9)\n"
   ]
  },
  {
   "cell_type": "code",
   "execution_count": 309,
   "metadata": {},
   "outputs": [],
   "source": [
    "from sklearn.model_selection import GridSearchCV\n",
    "\n",
    "criterion = ['gini', 'entropy']        \n",
    "\n",
    "n_estimators = [100, 200, 300]       \n",
    "\n",
    "max_features = ['auto', 'sqrt']       \n",
    "\n",
    "max_depth = [10, 20]      \n",
    "\n",
    "max_depth.append(None)    \n",
    "\n",
    "params = {'criterion': criterion,\n",
    "          'n_estimators': n_estimators,\n",
    "          'max_features': max_features,\n",
    "          'max_depth': max_depth}\n"
   ]
  },
  {
   "cell_type": "code",
   "execution_count": 310,
   "metadata": {},
   "outputs": [],
   "source": [
    "gs = GridSearchCV(clf_1, param_grid=params, n_jobs=2)"
   ]
  },
  {
   "cell_type": "code",
   "execution_count": 311,
   "metadata": {},
   "outputs": [],
   "source": [
    "rf_grid = gs.fit(X_train, y_train) "
   ]
  },
  {
   "cell_type": "code",
   "execution_count": 312,
   "metadata": {},
   "outputs": [
    {
     "data": {
      "text/plain": [
       "RandomForestClassifier(bootstrap=True, ccp_alpha=0.0, class_weight=None,\n",
       "                       criterion='entropy', max_depth=20, max_features='auto',\n",
       "                       max_leaf_nodes=None, max_samples=None,\n",
       "                       min_impurity_decrease=0.0, min_impurity_split=None,\n",
       "                       min_samples_leaf=2, min_samples_split=2,\n",
       "                       min_weight_fraction_leaf=0.0, n_estimators=200,\n",
       "                       n_jobs=None, oob_score=False, random_state=9, verbose=0,\n",
       "                       warm_start=False)"
      ]
     },
     "execution_count": 312,
     "metadata": {},
     "output_type": "execute_result"
    }
   ],
   "source": [
    "rf_grid.best_estimator_"
   ]
  },
  {
   "cell_type": "code",
   "execution_count": 313,
   "metadata": {},
   "outputs": [
    {
     "data": {
      "text/plain": [
       "0.8162668335637259"
      ]
     },
     "execution_count": 313,
     "metadata": {},
     "output_type": "execute_result"
    }
   ],
   "source": [
    "rf_grid.best_score_"
   ]
  },
  {
   "cell_type": "code",
   "execution_count": 314,
   "metadata": {},
   "outputs": [],
   "source": [
    "rf_model = RandomForestClassifier(bootstrap=True, ccp_alpha=0.0, class_weight=None,\n",
    "                       criterion='gini', max_depth=10, max_features='auto',\n",
    "                       max_leaf_nodes=None, max_samples=None,\n",
    "                       min_impurity_decrease=0.0, min_impurity_split=None,\n",
    "                       min_samples_leaf=2, min_samples_split=2,\n",
    "                       min_weight_fraction_leaf=0.0, n_estimators=300,\n",
    "                       n_jobs=None, oob_score=False, random_state=9, verbose=0,\n",
    "                       warm_start=False)"
   ]
  },
  {
   "cell_type": "code",
   "execution_count": 315,
   "metadata": {},
   "outputs": [
    {
     "data": {
      "text/plain": [
       "RandomForestClassifier(bootstrap=True, ccp_alpha=0.0, class_weight=None,\n",
       "                       criterion='gini', max_depth=10, max_features='auto',\n",
       "                       max_leaf_nodes=None, max_samples=None,\n",
       "                       min_impurity_decrease=0.0, min_impurity_split=None,\n",
       "                       min_samples_leaf=2, min_samples_split=2,\n",
       "                       min_weight_fraction_leaf=0.0, n_estimators=300,\n",
       "                       n_jobs=None, oob_score=False, random_state=9, verbose=0,\n",
       "                       warm_start=False)"
      ]
     },
     "execution_count": 315,
     "metadata": {},
     "output_type": "execute_result"
    }
   ],
   "source": [
    "rf_model.fit(X_train,y_train)"
   ]
  },
  {
   "cell_type": "code",
   "execution_count": 316,
   "metadata": {},
   "outputs": [],
   "source": [
    "y_pred = rf_model.predict(X_test)"
   ]
  },
  {
   "cell_type": "code",
   "execution_count": 317,
   "metadata": {},
   "outputs": [
    {
     "name": "stdout",
     "output_type": "stream",
     "text": [
      "F1 Score:  0.8508534056468336\n"
     ]
    }
   ],
   "source": [
    "from sklearn.metrics import f1_score\n",
    "print(\"F1 Score: \",f1_score(y_test,  y_pred))"
   ]
  },
  {
   "cell_type": "code",
   "execution_count": 320,
   "metadata": {},
   "outputs": [],
   "source": [
    "test_new = pd.read_csv('https://raw.githubusercontent.com/dphi-official/Datasets/master/pharma_data/Testing_set_begs.csv')"
   ]
  },
  {
   "cell_type": "code",
   "execution_count": 321,
   "metadata": {},
   "outputs": [],
   "source": [
    "test_new = test_new.drop('Patient_mental_condition',axis = 1)"
   ]
  },
  {
   "cell_type": "code",
   "execution_count": 322,
   "metadata": {
    "scrolled": true
   },
   "outputs": [],
   "source": [
    "test_new.Patient_Smoker = le.fit_transform(test_new.Patient_Smoker)\n",
    "test_new.Patient_Rural_Urban = le.fit_transform(test_new.Patient_Rural_Urban)"
   ]
  },
  {
   "cell_type": "code",
   "execution_count": 323,
   "metadata": {},
   "outputs": [],
   "source": [
    "dummies_1 = pd.get_dummies(test_new['Treated_with_drugs'])\n",
    "test_new = pd.concat([test_new,dummies_1],axis = 1)"
   ]
  },
  {
   "cell_type": "code",
   "execution_count": 324,
   "metadata": {},
   "outputs": [],
   "source": [
    "test_new = test_new.drop('Treated_with_drugs',axis = 1)"
   ]
  },
  {
   "cell_type": "code",
   "execution_count": 325,
   "metadata": {},
   "outputs": [],
   "source": [
    "survive = rf_model.predict(test_new)"
   ]
  },
  {
   "cell_type": "code",
   "execution_count": 326,
   "metadata": {},
   "outputs": [
    {
     "data": {
      "text/html": [
       "<div>\n",
       "<style scoped>\n",
       "    .dataframe tbody tr th:only-of-type {\n",
       "        vertical-align: middle;\n",
       "    }\n",
       "\n",
       "    .dataframe tbody tr th {\n",
       "        vertical-align: top;\n",
       "    }\n",
       "\n",
       "    .dataframe thead th {\n",
       "        text-align: right;\n",
       "    }\n",
       "</style>\n",
       "<table border=\"1\" class=\"dataframe\">\n",
       "  <thead>\n",
       "    <tr style=\"text-align: right;\">\n",
       "      <th></th>\n",
       "      <th>ID_Patient_Care_Situation</th>\n",
       "      <th>Diagnosed_Condition</th>\n",
       "      <th>Patient_ID</th>\n",
       "      <th>Patient_Age</th>\n",
       "      <th>Patient_Body_Mass_Index</th>\n",
       "      <th>Patient_Smoker</th>\n",
       "      <th>Patient_Rural_Urban</th>\n",
       "      <th>A</th>\n",
       "      <th>B</th>\n",
       "      <th>C</th>\n",
       "      <th>...</th>\n",
       "      <th>DX2 DX4 DX5</th>\n",
       "      <th>DX2 DX5</th>\n",
       "      <th>DX3</th>\n",
       "      <th>DX3 DX4</th>\n",
       "      <th>DX3 DX4 DX5</th>\n",
       "      <th>DX3 DX5</th>\n",
       "      <th>DX4</th>\n",
       "      <th>DX4 DX5</th>\n",
       "      <th>DX5</th>\n",
       "      <th>DX6</th>\n",
       "    </tr>\n",
       "  </thead>\n",
       "  <tbody>\n",
       "    <tr>\n",
       "      <th>0</th>\n",
       "      <td>19150</td>\n",
       "      <td>40</td>\n",
       "      <td>3709</td>\n",
       "      <td>16</td>\n",
       "      <td>29.443894</td>\n",
       "      <td>0</td>\n",
       "      <td>0</td>\n",
       "      <td>1.0</td>\n",
       "      <td>0.0</td>\n",
       "      <td>0.0</td>\n",
       "      <td>...</td>\n",
       "      <td>0</td>\n",
       "      <td>0</td>\n",
       "      <td>1</td>\n",
       "      <td>0</td>\n",
       "      <td>0</td>\n",
       "      <td>0</td>\n",
       "      <td>0</td>\n",
       "      <td>0</td>\n",
       "      <td>0</td>\n",
       "      <td>0</td>\n",
       "    </tr>\n",
       "    <tr>\n",
       "      <th>1</th>\n",
       "      <td>23216</td>\n",
       "      <td>52</td>\n",
       "      <td>986</td>\n",
       "      <td>24</td>\n",
       "      <td>26.836321</td>\n",
       "      <td>0</td>\n",
       "      <td>1</td>\n",
       "      <td>1.0</td>\n",
       "      <td>1.0</td>\n",
       "      <td>0.0</td>\n",
       "      <td>...</td>\n",
       "      <td>0</td>\n",
       "      <td>0</td>\n",
       "      <td>0</td>\n",
       "      <td>0</td>\n",
       "      <td>0</td>\n",
       "      <td>0</td>\n",
       "      <td>0</td>\n",
       "      <td>0</td>\n",
       "      <td>0</td>\n",
       "      <td>1</td>\n",
       "    </tr>\n",
       "    <tr>\n",
       "      <th>2</th>\n",
       "      <td>11890</td>\n",
       "      <td>50</td>\n",
       "      <td>11821</td>\n",
       "      <td>63</td>\n",
       "      <td>25.523280</td>\n",
       "      <td>0</td>\n",
       "      <td>0</td>\n",
       "      <td>1.0</td>\n",
       "      <td>0.0</td>\n",
       "      <td>0.0</td>\n",
       "      <td>...</td>\n",
       "      <td>0</td>\n",
       "      <td>0</td>\n",
       "      <td>0</td>\n",
       "      <td>0</td>\n",
       "      <td>0</td>\n",
       "      <td>0</td>\n",
       "      <td>0</td>\n",
       "      <td>1</td>\n",
       "      <td>0</td>\n",
       "      <td>0</td>\n",
       "    </tr>\n",
       "    <tr>\n",
       "      <th>3</th>\n",
       "      <td>7149</td>\n",
       "      <td>32</td>\n",
       "      <td>3292</td>\n",
       "      <td>42</td>\n",
       "      <td>27.171155</td>\n",
       "      <td>0</td>\n",
       "      <td>1</td>\n",
       "      <td>1.0</td>\n",
       "      <td>0.0</td>\n",
       "      <td>1.0</td>\n",
       "      <td>...</td>\n",
       "      <td>0</td>\n",
       "      <td>0</td>\n",
       "      <td>0</td>\n",
       "      <td>0</td>\n",
       "      <td>0</td>\n",
       "      <td>0</td>\n",
       "      <td>0</td>\n",
       "      <td>0</td>\n",
       "      <td>0</td>\n",
       "      <td>1</td>\n",
       "    </tr>\n",
       "    <tr>\n",
       "      <th>4</th>\n",
       "      <td>22845</td>\n",
       "      <td>20</td>\n",
       "      <td>9959</td>\n",
       "      <td>50</td>\n",
       "      <td>25.556192</td>\n",
       "      <td>0</td>\n",
       "      <td>0</td>\n",
       "      <td>1.0</td>\n",
       "      <td>0.0</td>\n",
       "      <td>0.0</td>\n",
       "      <td>...</td>\n",
       "      <td>0</td>\n",
       "      <td>0</td>\n",
       "      <td>1</td>\n",
       "      <td>0</td>\n",
       "      <td>0</td>\n",
       "      <td>0</td>\n",
       "      <td>0</td>\n",
       "      <td>0</td>\n",
       "      <td>0</td>\n",
       "      <td>0</td>\n",
       "    </tr>\n",
       "  </tbody>\n",
       "</table>\n",
       "<p>5 rows × 47 columns</p>\n",
       "</div>"
      ],
      "text/plain": [
       "   ID_Patient_Care_Situation  Diagnosed_Condition  Patient_ID  Patient_Age  \\\n",
       "0                      19150                   40        3709           16   \n",
       "1                      23216                   52         986           24   \n",
       "2                      11890                   50       11821           63   \n",
       "3                       7149                   32        3292           42   \n",
       "4                      22845                   20        9959           50   \n",
       "\n",
       "   Patient_Body_Mass_Index  Patient_Smoker  Patient_Rural_Urban    A    B  \\\n",
       "0                29.443894               0                    0  1.0  0.0   \n",
       "1                26.836321               0                    1  1.0  1.0   \n",
       "2                25.523280               0                    0  1.0  0.0   \n",
       "3                27.171155               0                    1  1.0  0.0   \n",
       "4                25.556192               0                    0  1.0  0.0   \n",
       "\n",
       "     C  ...  DX2 DX4 DX5   DX2 DX5   DX3   DX3 DX4   DX3 DX4 DX5   DX3 DX5   \\\n",
       "0  0.0  ...             0         0     1         0             0         0   \n",
       "1  0.0  ...             0         0     0         0             0         0   \n",
       "2  0.0  ...             0         0     0         0             0         0   \n",
       "3  1.0  ...             0         0     0         0             0         0   \n",
       "4  0.0  ...             0         0     1         0             0         0   \n",
       "\n",
       "   DX4   DX4 DX5   DX5   DX6  \n",
       "0     0         0     0    0  \n",
       "1     0         0     0    1  \n",
       "2     0         1     0    0  \n",
       "3     0         0     0    1  \n",
       "4     0         0     0    0  \n",
       "\n",
       "[5 rows x 47 columns]"
      ]
     },
     "execution_count": 326,
     "metadata": {},
     "output_type": "execute_result"
    }
   ],
   "source": [
    "test_new.head()"
   ]
  },
  {
   "cell_type": "code",
   "execution_count": 327,
   "metadata": {},
   "outputs": [],
   "source": [
    "res = pd.DataFrame(survive)\n",
    "res.index = test_new.index\n",
    "res.columns = ['survive_1']\n",
    "res.to_csv('prediction_results_liver_1.csv')"
   ]
  },
  {
   "cell_type": "code",
   "execution_count": null,
   "metadata": {},
   "outputs": [],
   "source": []
  }
 ],
 "metadata": {
  "kernelspec": {
   "display_name": "Python 3",
   "language": "python",
   "name": "python3"
  },
  "language_info": {
   "codemirror_mode": {
    "name": "ipython",
    "version": 3
   },
   "file_extension": ".py",
   "mimetype": "text/x-python",
   "name": "python",
   "nbconvert_exporter": "python",
   "pygments_lexer": "ipython3",
   "version": "3.7.6"
  }
 },
 "nbformat": 4,
 "nbformat_minor": 4
}
